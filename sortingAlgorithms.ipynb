{
 "cells": [
  {
   "cell_type": "code",
   "execution_count": 1,
   "metadata": {},
   "outputs": [],
   "source": [
    "# imported necessary python libraries\n",
    "import numpy as np\n",
    "import pandas as pd\n",
    "import matplotlib.pyplot as plt"
   ]
  },
  {
   "cell_type": "markdown",
   "metadata": {},
   "source": [
    "# Introduction"
   ]
  },
  {
   "cell_type": "markdown",
   "metadata": {},
   "source": [
    "A sorting algorithm is any algorithm that arranges the elements of a list in a certain order. For the purposes of this project the elements will be sorted in numerical order, from lowest value to highest value. \n",
    "\n",
    "Algorithms are analysed in regard to their complexity (runtime and space requirements) and big O notation is used to classify the complexity of algorithms, in regard to their respective growth rates. \n",
    "\n",
    "This project will deal with five sorting algorithms; bubble sort, heap sort, counting sort, insertion sort, and selections sort. Bubble, heap, and selection, insertion sorts are in-place sorting algorithms, which move elements to their sorted position one at a time, while the counting sort moves elements to a temporary position closer and closer to their final position with each iteration. In-place sorting algorithms do not require any additional space when sorting an array. Additionally, these algorithms, except for the insertion sort, are stable by nature, meaning that two elements that have the same key value retain their position in the sorted array, relative to each other. The insertion algorithm is stable by its design.\n",
    "\n",
    "The first section of the project will present the code used for each algorithm and explain how each of them sort an array. Two examples will be given for each algorithm, one example corresponding to the array use in the accompanying diagram and a also a randomly generated array. numpy.random.randint will be used to generate the random arrays, both for the examples and for the arrays used in benchmarking the algorthims."
   ]
  },
  {
   "cell_type": "markdown",
   "metadata": {},
   "source": [
    "# Sorting Algorithms "
   ]
  },
  {
   "cell_type": "markdown",
   "metadata": {},
   "source": [
    "## Bubble Sort"
   ]
  },
  {
   "cell_type": "code",
   "execution_count": 2,
   "metadata": {},
   "outputs": [],
   "source": [
    "# code from https://www.geeksforgeeks.org/bubble-sort/\n",
    "def bubbleSort(arr):\n",
    "    n = len(arr)\n",
    "    for i in range(n):\n",
    "        for j in range(0, n-i-1):\n",
    "            if arr[j] > arr[j+1]:\n",
    "                temp = arr[j]\n",
    "                arr[j] = arr[j+1]\n",
    "                arr[j+1] = temp\n",
    "    return arr"
   ]
  },
  {
   "cell_type": "markdown",
   "metadata": {},
   "source": [
    "The bubble sort algorithm works by comparing adjacent elements and repeatedly swapping their positions based on the comparator assigned to the algorithm. For example, if the goal was to sort an array from lowest value to highest value the algorithm compares the first pair of elements in the array and shifts the lower value to the left. It continues through the array until the array is fully sorted.\n",
    "\n",
    "The time complexity for this algorithms is O(n^2), which means that the running time increases quadratically as the input size increases.\n",
    "\n",
    "The following diagram illustrates the first 10 iterations of the bubble sort algorithm. Where the the elements is less than its right neighbour both elements are highlighted in yellow. Where an element is greater than its right neighbor it is highlighted in blue and the right neigbour in green indicating that the elements will be swapped. In the example below the number 10 \"bubbles\" to the right most position.\n",
    "\n",
    "<img src = \"./images/bubbleSort1.png\" width =\"450x\">\n",
    "\n",
    "The second diagram shows the last 13 iterations of the algorithm in order to demonstrate the sorted array.\n",
    "\n",
    "<img src = \"./images/bubbleSort2.png\" width =\"450x\">\n",
    "\n"
   ]
  },
  {
   "cell_type": "code",
   "execution_count": 3,
   "metadata": {},
   "outputs": [
    {
     "data": {
      "text/plain": [
       "[1, 2, 3, 4, 5, 6, 7, 8, 9, 10]"
      ]
     },
     "execution_count": 3,
     "metadata": {},
     "output_type": "execute_result"
    }
   ],
   "source": [
    "# bubble sort array from above diagram\n",
    "bubbleSort([3, 9, 6, 1, 10, 8, 4, 5, 2, 7])"
   ]
  },
  {
   "cell_type": "code",
   "execution_count": 4,
   "metadata": {},
   "outputs": [
    {
     "data": {
      "text/plain": [
       "array([ 0,  0,  1,  1,  3,  4,  5,  5,  6,  7,  9, 10, 10, 10, 11, 12, 14,\n",
       "       15, 16, 17, 19, 21, 22, 23, 24, 31, 31, 31, 32, 32, 33, 34, 35, 36,\n",
       "       37, 37, 38, 38, 41, 42, 43, 43, 43, 44, 46, 47, 48, 48, 48, 49, 49,\n",
       "       50, 50, 50, 52, 53, 55, 55, 57, 57, 57, 60, 62, 65, 65, 66, 67, 68,\n",
       "       68, 72, 72, 73, 75, 77, 77, 77, 78, 78, 79, 79, 80, 80, 82, 83, 83,\n",
       "       84, 86, 88, 88, 89, 89, 91, 93, 93, 95, 95, 97, 97, 97, 99])"
      ]
     },
     "execution_count": 4,
     "metadata": {},
     "output_type": "execute_result"
    }
   ],
   "source": [
    "# bubble sort random array\n",
    "bubbleSort(np.random.randint(100, size=100))"
   ]
  },
  {
   "cell_type": "markdown",
   "metadata": {},
   "source": [
    "## Heap Sort"
   ]
  },
  {
   "cell_type": "code",
   "execution_count": 5,
   "metadata": {},
   "outputs": [],
   "source": [
    "#  code from https://www.geeksforgeeks.org/heap-sort/\n",
    "def heapify(arr, n, i): \n",
    "    largest = i \n",
    "    left = 2 * i + 1     \n",
    "    right = 2 * i + 2     \n",
    "  \n",
    "    \n",
    "    if left < n and arr[i] < arr[left]: \n",
    "        largest = left \n",
    "  \n",
    "    \n",
    "    if right < n and arr[largest] < arr[right]: \n",
    "        largest = right \n",
    "  \n",
    "    \n",
    "    if largest != i: \n",
    "        arr[i],arr[largest] = arr[largest],arr[i]   \n",
    "  \n",
    "         \n",
    "        heapify(arr, n, largest) \n",
    " "
   ]
  },
  {
   "cell_type": "code",
   "execution_count": 6,
   "metadata": {},
   "outputs": [],
   "source": [
    "# code from https://www.geeksforgeeks.org/heap-sort/\n",
    "def heapSort(arr): \n",
    "    n = len(arr) \n",
    "   \n",
    "    for i in range(n, -1, -1): \n",
    "        heapify(arr, n, i) \n",
    "        \n",
    "    for i in range(n-1, 0, -1): \n",
    "        arr[i], arr[0] = arr[0], arr[i]\n",
    "        heapify(arr, i, 0)\n",
    "    \n",
    "    return arr"
   ]
  },
  {
   "cell_type": "markdown",
   "metadata": {},
   "source": [
    "There are two steps to a heap sort. Firstly, a heap is created from the input data. A heap is a tree-based data structure, as demonstrated by the initial heap in the diagram below. A max heap is a structure whereby the element with the greatest key, or value, is the root of the tree. Once a max heap has been created the algorithm places the root of the heap into the rightmost position of the sorted array. This process continues with the remaining elements until all elements have been placed into the sorted array.\n",
    "\n",
    "The time complexity for the heap sort is O(n log(n)). \n",
    "\n",
    "<img src = \"./images/heapSort.png\" width =\"450x\">"
   ]
  },
  {
   "cell_type": "code",
   "execution_count": 7,
   "metadata": {},
   "outputs": [
    {
     "data": {
      "text/plain": [
       "[1, 2, 3, 4, 5, 6, 7, 8, 9, 10]"
      ]
     },
     "execution_count": 7,
     "metadata": {},
     "output_type": "execute_result"
    }
   ],
   "source": [
    "# heap sort array from above diagram\n",
    "heapSort([3, 9, 6, 1, 10, 8, 4, 5, 2, 7])"
   ]
  },
  {
   "cell_type": "code",
   "execution_count": 8,
   "metadata": {},
   "outputs": [
    {
     "data": {
      "text/plain": [
       "array([ 0,  3,  3,  4,  5,  5,  7,  8,  8,  8,  9,  9,  9, 10, 11, 11, 14,\n",
       "       15, 16, 17, 17, 19, 20, 21, 22, 23, 24, 27, 28, 30, 31, 32, 33, 33,\n",
       "       34, 36, 41, 41, 43, 43, 44, 44, 46, 48, 49, 51, 52, 52, 53, 53, 54,\n",
       "       54, 54, 54, 54, 58, 59, 61, 61, 62, 62, 63, 63, 63, 65, 68, 68, 70,\n",
       "       71, 71, 72, 73, 73, 75, 75, 78, 78, 80, 81, 81, 82, 83, 83, 83, 84,\n",
       "       85, 87, 88, 89, 90, 90, 91, 93, 94, 95, 96, 96, 98, 98, 99])"
      ]
     },
     "execution_count": 8,
     "metadata": {},
     "output_type": "execute_result"
    }
   ],
   "source": [
    "# heap sort random array\n",
    "heapSort(np.random.randint(100, size=100))"
   ]
  },
  {
   "cell_type": "markdown",
   "metadata": {},
   "source": [
    "## Counting Sort"
   ]
  },
  {
   "cell_type": "code",
   "execution_count": 9,
   "metadata": {},
   "outputs": [],
   "source": [
    "# https://www.geeksforgeeks.org/counting-sort/\n",
    "# adapted code from example to be applied to intergers instead of string characters\n",
    "def countSort(arr):\n",
    "    m = len(arr) + 1\n",
    "    count = [0 for i in range(m)]\n",
    "    \n",
    "    for a in arr:\n",
    "    # count occurences\n",
    "        count[a] += 1             \n",
    "    i = 0\n",
    "    for a in range(m):            \n",
    "        for c in range(count[a]):  \n",
    "            arr[i] = a\n",
    "            i += 1\n",
    "    return arr"
   ]
  },
  {
   "cell_type": "markdown",
   "metadata": {},
   "source": [
    "A counting sort works by counting the number of elements in an array that have a distinct key value, and using arithmetic on those counts to assign the position of these elements in the sorted array. In the below example all the instances of the number 1 are counted and, as there are no instances of the number 0, they are assigned to the first 3 positions in the sorted array. \n",
    "\n",
    "The time complexity of the counting algorithm is O(n+k) where n is the number of elements in the array and k is the range of elements. While k is less than or equal to n the algorithm performs efficiently but when k exceeds n the performance is impacted.\n",
    "\n",
    "<img src = \"./images/countingSort.png\" width =\"450x\">"
   ]
  },
  {
   "cell_type": "code",
   "execution_count": 10,
   "metadata": {},
   "outputs": [
    {
     "data": {
      "text/plain": [
       "[1, 1, 1, 3, 5, 6, 6, 8, 9, 9]"
      ]
     },
     "execution_count": 10,
     "metadata": {},
     "output_type": "execute_result"
    }
   ],
   "source": [
    "# count sort array from above diagram\n",
    "countSort([9, 3, 9, 6, 1, 1, 8, 6, 5, 1])"
   ]
  },
  {
   "cell_type": "code",
   "execution_count": 11,
   "metadata": {},
   "outputs": [
    {
     "data": {
      "text/plain": [
       "array([ 0,  0,  1,  1,  2,  2,  3,  3,  4,  5,  6,  6,  7,  7,  8,  8, 10,\n",
       "       10, 11, 14, 15, 16, 16, 17, 17, 17, 19, 19, 21, 23, 23, 24, 25, 25,\n",
       "       26, 26, 26, 29, 29, 30, 31, 33, 34, 36, 37, 38, 39, 39, 41, 43, 46,\n",
       "       50, 50, 51, 51, 52, 54, 54, 56, 56, 58, 59, 59, 59, 61, 61, 62, 62,\n",
       "       68, 69, 69, 69, 69, 71, 72, 73, 74, 74, 78, 78, 79, 82, 82, 83, 84,\n",
       "       84, 85, 85, 85, 86, 86, 87, 90, 91, 91, 93, 94, 96, 96, 98])"
      ]
     },
     "execution_count": 11,
     "metadata": {},
     "output_type": "execute_result"
    }
   ],
   "source": [
    "# count sort random array\n",
    "countSort(np.random.randint(100, size=100))"
   ]
  },
  {
   "cell_type": "markdown",
   "metadata": {},
   "source": [
    "## Insertion Sort"
   ]
  },
  {
   "cell_type": "code",
   "execution_count": 12,
   "metadata": {},
   "outputs": [],
   "source": [
    "# code from https://www.geeksforgeeks.org/insertion-sort/\n",
    "def insertionSort(arr): \n",
    "   \n",
    "    for i in range(1, len(arr)): \n",
    "  \n",
    "        key = arr[i] \n",
    "   \n",
    "        j = i-1\n",
    "        while j >= 0 and key < arr[j] : \n",
    "                arr[j + 1] = arr[j] \n",
    "                j -= 1\n",
    "        arr[j + 1] = key \n",
    "        \n",
    "    return arr"
   ]
  },
  {
   "cell_type": "markdown",
   "metadata": {},
   "source": [
    "An insertion sort iterates through an array by taking an element and comparing it, one by one, to all elements to the left of it in order to find its correct place in numerical order. The time complexity for this algorithms is O(n^2), just like in the case of the bubble sort.\n",
    "\n",
    "<img src = \"./images/insertionSort.png\" width =\"450x\">"
   ]
  },
  {
   "cell_type": "code",
   "execution_count": 13,
   "metadata": {},
   "outputs": [
    {
     "data": {
      "text/plain": [
       "[1, 2, 3, 4, 5, 6, 7, 8, 9, 10]"
      ]
     },
     "execution_count": 13,
     "metadata": {},
     "output_type": "execute_result"
    }
   ],
   "source": [
    "# insertion sort array from above diagram\n",
    "insertionSort([3, 9, 6, 1, 10, 8, 4, 5, 2, 7])"
   ]
  },
  {
   "cell_type": "code",
   "execution_count": 14,
   "metadata": {},
   "outputs": [
    {
     "data": {
      "text/plain": [
       "array([ 0,  3,  4,  4,  6,  7,  9,  9,  9, 10, 12, 14, 14, 14, 16, 17, 18,\n",
       "       19, 19, 19, 21, 24, 25, 26, 27, 28, 29, 29, 29, 29, 32, 33, 39, 40,\n",
       "       40, 41, 42, 42, 43, 44, 46, 46, 47, 47, 49, 49, 50, 50, 51, 51, 52,\n",
       "       52, 55, 55, 56, 57, 60, 61, 62, 64, 65, 65, 66, 71, 71, 71, 73, 76,\n",
       "       77, 77, 78, 78, 82, 82, 82, 83, 83, 84, 86, 87, 87, 87, 88, 89, 89,\n",
       "       91, 92, 93, 94, 94, 94, 96, 96, 96, 97, 97, 98, 98, 99, 99])"
      ]
     },
     "execution_count": 14,
     "metadata": {},
     "output_type": "execute_result"
    }
   ],
   "source": [
    "# insertion sort random array\n",
    "insertionSort(np.random.randint(100, size=100))"
   ]
  },
  {
   "cell_type": "markdown",
   "metadata": {},
   "source": [
    "## Selection Sort"
   ]
  },
  {
   "cell_type": "code",
   "execution_count": 15,
   "metadata": {},
   "outputs": [],
   "source": [
    "# code adapted from https://www.geeksforgeeks.org/selection-sort/\n",
    "def selectSort(arr):\n",
    "    n = len(arr)\n",
    "    \n",
    "    for i in range(n):\n",
    "        \n",
    "        min_index = i\n",
    "        \n",
    "        for j in range(i+1, n):\n",
    "            \n",
    "            if arr[j] < arr[min_index]:\n",
    "                min_index = j\n",
    "        \n",
    "        arr[i], arr[min_index] = arr[min_index], arr[i]\n",
    "        \n",
    "    return arr"
   ]
  },
  {
   "cell_type": "markdown",
   "metadata": {},
   "source": [
    "A selection sort iterates through the elements in an array to find the lowest value element. This element is then moved to the first postion in the sorted array. The algorithm then performs the same check through the remaining elements until all elements are placed into the sorted array. In the below example the number with the lowest value, hightlighted green is swapped with the first number in the unsorted array, hightlighted in belowed. The previously sorted values are highlighted in yellow through the iterations.\n",
    "\n",
    "The time complexity for this algorithms is O(n^2), just like in the case of the bubble sort and insertion sort.\n",
    "\n",
    "<img src = \"./images/selectionSort.png\" width =\"450x\">"
   ]
  },
  {
   "cell_type": "code",
   "execution_count": 16,
   "metadata": {},
   "outputs": [
    {
     "data": {
      "text/plain": [
       "[1, 2, 3, 4, 5, 6, 7, 8, 9, 10]"
      ]
     },
     "execution_count": 16,
     "metadata": {},
     "output_type": "execute_result"
    }
   ],
   "source": [
    "# select sort array from above diagram\n",
    "selectSort([3, 9, 6, 1, 10, 8, 4, 5, 2, 7])"
   ]
  },
  {
   "cell_type": "code",
   "execution_count": 17,
   "metadata": {},
   "outputs": [
    {
     "data": {
      "text/plain": [
       "array([ 0,  0,  1,  1,  2,  4,  4,  5,  5,  7,  9,  9,  9, 12, 12, 14, 15,\n",
       "       15, 15, 15, 16, 17, 19, 19, 20, 21, 21, 22, 22, 24, 24, 26, 26, 27,\n",
       "       27, 27, 28, 29, 29, 31, 31, 33, 34, 40, 41, 41, 44, 44, 46, 49, 50,\n",
       "       51, 51, 51, 52, 53, 54, 55, 56, 56, 56, 56, 57, 59, 59, 59, 60, 61,\n",
       "       63, 64, 65, 66, 68, 69, 70, 71, 74, 74, 77, 78, 78, 79, 79, 79, 81,\n",
       "       81, 82, 82, 85, 87, 87, 88, 88, 90, 91, 94, 94, 95, 96, 96])"
      ]
     },
     "execution_count": 17,
     "metadata": {},
     "output_type": "execute_result"
    }
   ],
   "source": [
    "# select sort random array\n",
    "selectSort(np.random.randint(100, size=100))"
   ]
  },
  {
   "cell_type": "markdown",
   "metadata": {},
   "source": [
    "# Benchmarking and Implementation"
   ]
  },
  {
   "cell_type": "markdown",
   "metadata": {},
   "source": [
    "## Pandas DataFrame"
   ]
  },
  {
   "cell_type": "markdown",
   "metadata": {},
   "source": [
    "A Pandas DataFrame was chosen to contain the benchmark results. This allows for a straightforward way of visualising and comparing the results."
   ]
  },
  {
   "cell_type": "markdown",
   "metadata": {},
   "source": [
    "## Benchmark Code"
   ]
  },
  {
   "cell_type": "markdown",
   "metadata": {},
   "source": [
    "Below is an example of the code that will be used to bench mark the sorting algorithms. This code will be run 10 times for each test case. The average result of each test case will be appended to an array corresponding to the algorithm used. A python script containing the benchmarking code is saved in the same folder as this notebook."
   ]
  },
  {
   "cell_type": "code",
   "execution_count": 18,
   "metadata": {},
   "outputs": [
    {
     "data": {
      "text/plain": [
       "[0.0032284021377563476]"
      ]
     },
     "execution_count": 18,
     "metadata": {},
     "output_type": "execute_result"
    }
   ],
   "source": [
    "# benchmarking code adapted from course materials \n",
    "# https://learnonline.gmit.ie/pluginfile.php/191481/mod_resource/content/0/11%20Benchmarking%20in%20Python.pdf\n",
    "import time\n",
    "\n",
    "num_runs = 10 \n",
    "example = []\n",
    "\n",
    "# create an array to contain results of test\n",
    "results = []\n",
    "\n",
    "for r in range(num_runs):\n",
    "    # generate a random array to be sorted\n",
    "    testOne = np.random.randint(100, size=100)\n",
    "    \n",
    "    # record start time\n",
    "    start_time = time.time()\n",
    "    \n",
    "    # call sorting algorithm\n",
    "    bubbleSort(testOne)\n",
    "    \n",
    "    # record end time\n",
    "    end_time = time.time()\n",
    "    \n",
    "    # get total running time\n",
    "    time_elapsed = end_time - start_time\n",
    "    \n",
    "    # append running time to array\n",
    "    results.append(time_elapsed)\n",
    "\n",
    "# calculate average of 10 runs    \n",
    "first_test = np.average(results)\n",
    "\n",
    "# append average to new array which continues benchmark results for all test cases\n",
    "example.append(first_test)\n",
    "\n",
    "example"
   ]
  },
  {
   "cell_type": "code",
   "execution_count": 19,
   "metadata": {},
   "outputs": [
    {
     "data": {
      "text/html": [
       "<div>\n",
       "<style scoped>\n",
       "    .dataframe tbody tr th:only-of-type {\n",
       "        vertical-align: middle;\n",
       "    }\n",
       "\n",
       "    .dataframe tbody tr th {\n",
       "        vertical-align: top;\n",
       "    }\n",
       "\n",
       "    .dataframe thead th {\n",
       "        text-align: right;\n",
       "    }\n",
       "</style>\n",
       "<table border=\"1\" class=\"dataframe\">\n",
       "  <thead>\n",
       "    <tr style=\"text-align: right;\">\n",
       "      <th></th>\n",
       "      <th>Bubble Sort</th>\n",
       "      <th>Insertion Sort</th>\n",
       "      <th>Counting Sort</th>\n",
       "      <th>Heap Sort</th>\n",
       "      <th>Selection Sort</th>\n",
       "    </tr>\n",
       "    <tr>\n",
       "      <th>Input Size</th>\n",
       "      <th></th>\n",
       "      <th></th>\n",
       "      <th></th>\n",
       "      <th></th>\n",
       "      <th></th>\n",
       "    </tr>\n",
       "  </thead>\n",
       "  <tbody>\n",
       "    <tr>\n",
       "      <td>100</td>\n",
       "      <td>0.00304</td>\n",
       "      <td>0.00122</td>\n",
       "      <td>0.00007</td>\n",
       "      <td>0.00082</td>\n",
       "      <td>0.00179</td>\n",
       "    </tr>\n",
       "    <tr>\n",
       "      <td>250</td>\n",
       "      <td>0.01948</td>\n",
       "      <td>0.00748</td>\n",
       "      <td>0.00016</td>\n",
       "      <td>0.00252</td>\n",
       "      <td>0.01087</td>\n",
       "    </tr>\n",
       "    <tr>\n",
       "      <td>500</td>\n",
       "      <td>0.07762</td>\n",
       "      <td>0.03083</td>\n",
       "      <td>0.00035</td>\n",
       "      <td>0.00584</td>\n",
       "      <td>0.04451</td>\n",
       "    </tr>\n",
       "    <tr>\n",
       "      <td>750</td>\n",
       "      <td>0.21477</td>\n",
       "      <td>0.06990</td>\n",
       "      <td>0.00052</td>\n",
       "      <td>0.00967</td>\n",
       "      <td>0.10075</td>\n",
       "    </tr>\n",
       "    <tr>\n",
       "      <td>1000</td>\n",
       "      <td>0.31460</td>\n",
       "      <td>0.12683</td>\n",
       "      <td>0.00067</td>\n",
       "      <td>0.01348</td>\n",
       "      <td>0.18058</td>\n",
       "    </tr>\n",
       "    <tr>\n",
       "      <td>1250</td>\n",
       "      <td>0.48860</td>\n",
       "      <td>0.19907</td>\n",
       "      <td>0.00085</td>\n",
       "      <td>0.01753</td>\n",
       "      <td>0.28092</td>\n",
       "    </tr>\n",
       "    <tr>\n",
       "      <td>2500</td>\n",
       "      <td>2.00972</td>\n",
       "      <td>0.79861</td>\n",
       "      <td>0.00169</td>\n",
       "      <td>0.03908</td>\n",
       "      <td>1.11948</td>\n",
       "    </tr>\n",
       "    <tr>\n",
       "      <td>3750</td>\n",
       "      <td>4.50544</td>\n",
       "      <td>1.80287</td>\n",
       "      <td>0.00254</td>\n",
       "      <td>0.06209</td>\n",
       "      <td>2.53213</td>\n",
       "    </tr>\n",
       "    <tr>\n",
       "      <td>5000</td>\n",
       "      <td>7.98221</td>\n",
       "      <td>3.21516</td>\n",
       "      <td>0.00339</td>\n",
       "      <td>0.08549</td>\n",
       "      <td>4.44650</td>\n",
       "    </tr>\n",
       "    <tr>\n",
       "      <td>6250</td>\n",
       "      <td>12.37684</td>\n",
       "      <td>5.13109</td>\n",
       "      <td>0.00432</td>\n",
       "      <td>0.10999</td>\n",
       "      <td>6.88431</td>\n",
       "    </tr>\n",
       "  </tbody>\n",
       "</table>\n",
       "</div>"
      ],
      "text/plain": [
       "            Bubble Sort  Insertion Sort  Counting Sort  Heap Sort  \\\n",
       "Input Size                                                          \n",
       "100             0.00304         0.00122        0.00007    0.00082   \n",
       "250             0.01948         0.00748        0.00016    0.00252   \n",
       "500             0.07762         0.03083        0.00035    0.00584   \n",
       "750             0.21477         0.06990        0.00052    0.00967   \n",
       "1000            0.31460         0.12683        0.00067    0.01348   \n",
       "1250            0.48860         0.19907        0.00085    0.01753   \n",
       "2500            2.00972         0.79861        0.00169    0.03908   \n",
       "3750            4.50544         1.80287        0.00254    0.06209   \n",
       "5000            7.98221         3.21516        0.00339    0.08549   \n",
       "6250           12.37684         5.13109        0.00432    0.10999   \n",
       "\n",
       "            Selection Sort  \n",
       "Input Size                  \n",
       "100                0.00179  \n",
       "250                0.01087  \n",
       "500                0.04451  \n",
       "750                0.10075  \n",
       "1000               0.18058  \n",
       "1250               0.28092  \n",
       "2500               1.11948  \n",
       "3750               2.53213  \n",
       "5000               4.44650  \n",
       "6250               6.88431  "
      ]
     },
     "execution_count": 19,
     "metadata": {},
     "output_type": "execute_result"
    }
   ],
   "source": [
    "# call python script containing benchmarking code \n",
    "%run -i \"benchmark.py\"\n",
    "df"
   ]
  },
  {
   "cell_type": "markdown",
   "metadata": {},
   "source": [
    "The above table contains the average result of ten runs in each test case for each algorithm."
   ]
  },
  {
   "cell_type": "code",
   "execution_count": 20,
   "metadata": {},
   "outputs": [
    {
     "data": {
      "image/png": "[encoded data removed]",
      "text/plain": [
       "<Figure size 720x504 with 1 Axes>"
      ]
     },
     "metadata": {
      "needs_background": "light"
     },
     "output_type": "display_data"
    }
   ],
   "source": [
    "df.plot(figsize=(10,7))\n",
    "plt.ylabel('Running Time(in Seconds)')\n",
    "plt.title('Running Time of Sorting Algorithms')\n",
    "plt.grid()\n",
    "plt.show()"
   ]
  },
  {
   "cell_type": "markdown",
   "metadata": {},
   "source": [
    "At a glance, the growth rate of the running time for each algorithm appears to be as one would expect. Of the tested algorithms, the Bubble Sort is the least efficient. This makes sense as the algorithm compares two elements at a time meaning in will only sort one element in n-1 iterations, where n is the number elements in the unsorted array.  "
   ]
  },
  {
   "cell_type": "code",
   "execution_count": 21,
   "metadata": {},
   "outputs": [
    {
     "data": {
      "image/png": "[encoded data removed]",
      "text/plain": [
       "<Figure size 720x504 with 1 Axes>"
      ]
     },
     "metadata": {
      "needs_background": "light"
     },
     "output_type": "display_data"
    }
   ],
   "source": [
    "df.plot(kind = 'bar', figsize=(10,7))\n",
    "plt.ylabel('Running Time(in Seconds)')\n",
    "plt.title('Running Time of Sorting Algorithms')\n",
    "plt.show()"
   ]
  },
  {
   "cell_type": "markdown",
   "metadata": {},
   "source": [
    "The Counting Sort Algorithm has proven to be the most of efficient of the algorithms tested. So much so, in fact, that it is not visible on the previous bar chart. The Counting Sort algorithm  is not comparison based, like the others, instead counting the occurences of key values in random arrays."
   ]
  },
  {
   "cell_type": "code",
   "execution_count": 22,
   "metadata": {},
   "outputs": [
    {
     "data": {
      "image/png": "[encoded data removed]",
      "text/plain": [
       "<Figure size 720x504 with 1 Axes>"
      ]
     },
     "metadata": {
      "needs_background": "light"
     },
     "output_type": "display_data"
    }
   ],
   "source": [
    "df[['Counting Sort']].plot(kind = 'bar', figsize=(10,7), color = 'tab:green')\n",
    "plt.ylabel('Running Time(in Milliseconds)')\n",
    "plt.title('Counting Sort Growth Rate')\n",
    "plt.show()"
   ]
  },
  {
   "cell_type": "markdown",
   "metadata": {},
   "source": [
    "Likewise, the Heap Sort algorithm is only just visible on the same bar chart when larger test cases are plotted. While the Heap Sort algorithm is comparison based it is empirically more efficient than the other comparison based sorting algorithms that were tested. This is in keeping with what one would expect based on the expected growth rate of the algorithms discussed previously in this project. The time compexity for the Heap Sort algorithm is O(n log(n)), while the other comparison based algorithms have a time complexity of O(n^2), meaning the running time increases quadratically."
   ]
  },
  {
   "cell_type": "code",
   "execution_count": 23,
   "metadata": {},
   "outputs": [
    {
     "data": {
      "image/png": "[encoded data removed]",
      "text/plain": [
       "<Figure size 720x504 with 1 Axes>"
      ]
     },
     "metadata": {
      "needs_background": "light"
     },
     "output_type": "display_data"
    }
   ],
   "source": [
    "df[['Heap Sort']].plot(kind = 'bar', figsize=(10,7), color = 'tab:red')\n",
    "plt.ylabel('Running Time(in Milliseconds)')\n",
    "plt.xlabel('Input Size')\n",
    "plt.title('Heap Sort Growth Rate')\n",
    "plt.show()"
   ]
  },
  {
   "cell_type": "code",
   "execution_count": 24,
   "metadata": {},
   "outputs": [
    {
     "data": {
      "text/html": [
       "<div>\n",
       "<style scoped>\n",
       "    .dataframe tbody tr th:only-of-type {\n",
       "        vertical-align: middle;\n",
       "    }\n",
       "\n",
       "    .dataframe tbody tr th {\n",
       "        vertical-align: top;\n",
       "    }\n",
       "\n",
       "    .dataframe thead th {\n",
       "        text-align: right;\n",
       "    }\n",
       "</style>\n",
       "<table border=\"1\" class=\"dataframe\">\n",
       "  <thead>\n",
       "    <tr style=\"text-align: right;\">\n",
       "      <th></th>\n",
       "      <th>Counting Sort</th>\n",
       "      <th>Heap Sort</th>\n",
       "    </tr>\n",
       "    <tr>\n",
       "      <th>Input Size</th>\n",
       "      <th></th>\n",
       "      <th></th>\n",
       "    </tr>\n",
       "  </thead>\n",
       "  <tbody>\n",
       "    <tr>\n",
       "      <td>100</td>\n",
       "      <td>0.00007</td>\n",
       "      <td>0.00082</td>\n",
       "    </tr>\n",
       "    <tr>\n",
       "      <td>250</td>\n",
       "      <td>0.00016</td>\n",
       "      <td>0.00252</td>\n",
       "    </tr>\n",
       "    <tr>\n",
       "      <td>500</td>\n",
       "      <td>0.00035</td>\n",
       "      <td>0.00584</td>\n",
       "    </tr>\n",
       "    <tr>\n",
       "      <td>750</td>\n",
       "      <td>0.00052</td>\n",
       "      <td>0.00967</td>\n",
       "    </tr>\n",
       "    <tr>\n",
       "      <td>1000</td>\n",
       "      <td>0.00067</td>\n",
       "      <td>0.01348</td>\n",
       "    </tr>\n",
       "    <tr>\n",
       "      <td>1250</td>\n",
       "      <td>0.00085</td>\n",
       "      <td>0.01753</td>\n",
       "    </tr>\n",
       "    <tr>\n",
       "      <td>2500</td>\n",
       "      <td>0.00169</td>\n",
       "      <td>0.03908</td>\n",
       "    </tr>\n",
       "    <tr>\n",
       "      <td>3750</td>\n",
       "      <td>0.00254</td>\n",
       "      <td>0.06209</td>\n",
       "    </tr>\n",
       "    <tr>\n",
       "      <td>5000</td>\n",
       "      <td>0.00339</td>\n",
       "      <td>0.08549</td>\n",
       "    </tr>\n",
       "    <tr>\n",
       "      <td>6250</td>\n",
       "      <td>0.00432</td>\n",
       "      <td>0.10999</td>\n",
       "    </tr>\n",
       "  </tbody>\n",
       "</table>\n",
       "</div>"
      ],
      "text/plain": [
       "            Counting Sort  Heap Sort\n",
       "Input Size                          \n",
       "100               0.00007    0.00082\n",
       "250               0.00016    0.00252\n",
       "500               0.00035    0.00584\n",
       "750               0.00052    0.00967\n",
       "1000              0.00067    0.01348\n",
       "1250              0.00085    0.01753\n",
       "2500              0.00169    0.03908\n",
       "3750              0.00254    0.06209\n",
       "5000              0.00339    0.08549\n",
       "6250              0.00432    0.10999"
      ]
     },
     "execution_count": 24,
     "metadata": {},
     "output_type": "execute_result"
    }
   ],
   "source": [
    "df[['Counting Sort', 'Heap Sort']]"
   ]
  },
  {
   "cell_type": "code",
   "execution_count": 25,
   "metadata": {},
   "outputs": [
    {
     "data": {
      "image/png": "[encoded data removed]",
      "text/plain": [
       "<Figure size 720x504 with 1 Axes>"
      ]
     },
     "metadata": {
      "needs_background": "light"
     },
     "output_type": "display_data"
    }
   ],
   "source": [
    "df[['Counting Sort', 'Heap Sort']].plot(figsize = (10,7), color = ['tab:green', 'tab:red'])\n",
    "plt.grid()\n",
    "plt.title('Comparison of Counting and Heap Sort')\n",
    "plt.ylabel('Running Time(in Milliseconds)')\n",
    "plt.show()"
   ]
  },
  {
   "cell_type": "markdown",
   "metadata": {},
   "source": [
    "The above plot illustrates the difference between the Heap Sort and Counting sort more clearly, as in the first plot the difference is barely perceptible.   "
   ]
  },
  {
   "cell_type": "code",
   "execution_count": 26,
   "metadata": {},
   "outputs": [
    {
     "data": {
      "image/png": "[encoded data removed]",
      "text/plain": [
       "<Figure size 720x504 with 1 Axes>"
      ]
     },
     "metadata": {
      "needs_background": "light"
     },
     "output_type": "display_data"
    }
   ],
   "source": [
    "df[['Bubble Sort', 'Selection Sort', 'Insertion Sort']].plot(kind = 'bar', figsize=(10,7), color = ['tab:blue', 'tab:orange', 'tab:purple'])\n",
    "plt.ylabel('Running Time(in Seconds)')\n",
    "plt.title('Comparison of Counting and Heap Sort')\n",
    "plt.show()"
   ]
  },
  {
   "cell_type": "code",
   "execution_count": 27,
   "metadata": {},
   "outputs": [
    {
     "data": {
      "text/html": [
       "<div>\n",
       "<style scoped>\n",
       "    .dataframe tbody tr th:only-of-type {\n",
       "        vertical-align: middle;\n",
       "    }\n",
       "\n",
       "    .dataframe tbody tr th {\n",
       "        vertical-align: top;\n",
       "    }\n",
       "\n",
       "    .dataframe thead th {\n",
       "        text-align: right;\n",
       "    }\n",
       "</style>\n",
       "<table border=\"1\" class=\"dataframe\">\n",
       "  <thead>\n",
       "    <tr style=\"text-align: right;\">\n",
       "      <th></th>\n",
       "      <th>Bubble Sort</th>\n",
       "      <th>Insertion Sort</th>\n",
       "      <th>Selection Sort</th>\n",
       "    </tr>\n",
       "    <tr>\n",
       "      <th>Input Size</th>\n",
       "      <th></th>\n",
       "      <th></th>\n",
       "      <th></th>\n",
       "    </tr>\n",
       "  </thead>\n",
       "  <tbody>\n",
       "    <tr>\n",
       "      <td>100</td>\n",
       "      <td>0.00304</td>\n",
       "      <td>0.00122</td>\n",
       "      <td>0.00179</td>\n",
       "    </tr>\n",
       "    <tr>\n",
       "      <td>250</td>\n",
       "      <td>0.01948</td>\n",
       "      <td>0.00748</td>\n",
       "      <td>0.01087</td>\n",
       "    </tr>\n",
       "    <tr>\n",
       "      <td>500</td>\n",
       "      <td>0.07762</td>\n",
       "      <td>0.03083</td>\n",
       "      <td>0.04451</td>\n",
       "    </tr>\n",
       "    <tr>\n",
       "      <td>750</td>\n",
       "      <td>0.21477</td>\n",
       "      <td>0.06990</td>\n",
       "      <td>0.10075</td>\n",
       "    </tr>\n",
       "    <tr>\n",
       "      <td>1000</td>\n",
       "      <td>0.31460</td>\n",
       "      <td>0.12683</td>\n",
       "      <td>0.18058</td>\n",
       "    </tr>\n",
       "    <tr>\n",
       "      <td>1250</td>\n",
       "      <td>0.48860</td>\n",
       "      <td>0.19907</td>\n",
       "      <td>0.28092</td>\n",
       "    </tr>\n",
       "    <tr>\n",
       "      <td>2500</td>\n",
       "      <td>2.00972</td>\n",
       "      <td>0.79861</td>\n",
       "      <td>1.11948</td>\n",
       "    </tr>\n",
       "    <tr>\n",
       "      <td>3750</td>\n",
       "      <td>4.50544</td>\n",
       "      <td>1.80287</td>\n",
       "      <td>2.53213</td>\n",
       "    </tr>\n",
       "    <tr>\n",
       "      <td>5000</td>\n",
       "      <td>7.98221</td>\n",
       "      <td>3.21516</td>\n",
       "      <td>4.44650</td>\n",
       "    </tr>\n",
       "    <tr>\n",
       "      <td>6250</td>\n",
       "      <td>12.37684</td>\n",
       "      <td>5.13109</td>\n",
       "      <td>6.88431</td>\n",
       "    </tr>\n",
       "  </tbody>\n",
       "</table>\n",
       "</div>"
      ],
      "text/plain": [
       "            Bubble Sort  Insertion Sort  Selection Sort\n",
       "Input Size                                             \n",
       "100             0.00304         0.00122         0.00179\n",
       "250             0.01948         0.00748         0.01087\n",
       "500             0.07762         0.03083         0.04451\n",
       "750             0.21477         0.06990         0.10075\n",
       "1000            0.31460         0.12683         0.18058\n",
       "1250            0.48860         0.19907         0.28092\n",
       "2500            2.00972         0.79861         1.11948\n",
       "3750            4.50544         1.80287         2.53213\n",
       "5000            7.98221         3.21516         4.44650\n",
       "6250           12.37684         5.13109         6.88431"
      ]
     },
     "execution_count": 27,
     "metadata": {},
     "output_type": "execute_result"
    }
   ],
   "source": [
    "df[['Bubble Sort', 'Insertion Sort', 'Selection Sort']]"
   ]
  },
  {
   "cell_type": "markdown",
   "metadata": {},
   "source": [
    "Again, as expected, the  Bubble Sort, Selection Sort, and Insertion algorithms all have similar growth rates. The Selection Sort algorithm requires more iterations than the Insertion sort as it swaps the position of two elements while the the Insertion moves one element to the correct position in respect to all elements to its left."
   ]
  },
  {
   "cell_type": "code",
   "execution_count": 28,
   "metadata": {},
   "outputs": [
    {
     "data": {
      "image/png": "[encoded data removed]",
      "text/plain": [
       "<Figure size 720x504 with 1 Axes>"
      ]
     },
     "metadata": {
      "needs_background": "light"
     },
     "output_type": "display_data"
    }
   ],
   "source": [
    "df[['Bubble Sort', 'Insertion Sort', 'Selection Sort']].plot(figsize=(10,7), color = ['tab:blue', 'tab:orange', 'tab:purple'])\n",
    "plt.grid()\n",
    "plt.title('Comparison of Bubble, Selection, and Insertion Sorts')\n",
    "plt.ylabel('Running Time(in Seconds)')\n",
    "plt.show()"
   ]
  },
  {
   "cell_type": "markdown",
   "metadata": {},
   "source": [
    "# References\n",
    "* https://www.geeksforgeeks.org/bubble-sort/\n",
    "* https://www.geeksforgeeks.org/counting-sort/\n",
    "* https://www.geeksforgeeks.org/heap-sort/\n",
    "* https://www.geeksforgeeks.org/insertion-sort/\n",
    "* https://www.geeksforgeeks.org/selection-sort/\n",
    "* https://www.geeksforgeeks.org/sorting-terminology/\n",
    "* https://www.geeksforgeeks.org/stability-in-sorting-algorithms/\n",
    "* https://learnonline.gmit.ie/pluginfile.php/191466/mod_resource/content/0/07%20Sorting%20Algorithms%20Part%201.pdf\n",
    "* https://learnonline.gmit.ie/pluginfile.php/191471/mod_resource/content/0/08%20Sorting%20Algorithms%20Part%202.pdf\n",
    "* https://learnonline.gmit.ie/pluginfile.php/191472/mod_resource/content/0/09%20Sorting%20Algorithms%20Part%203.pdf\n",
    "* https://learnonline.gmit.ie/pluginfile.php/191481/mod_resource/content/0/11%20Benchmarking%20in%20Python.pdf\n"
   ]
  }
 ],
 "metadata": {
  "kernelspec": {
   "display_name": "Python 3",
   "language": "python",
   "name": "python3"
  },
  "language_info": {
   "codemirror_mode": {
    "name": "ipython",
    "version": 3
   },
   "file_extension": ".py",
   "mimetype": "text/x-python",
   "name": "python",
   "nbconvert_exporter": "python",
   "pygments_lexer": "ipython3",
   "version": "3.7.4"
  }
 },
 "nbformat": 4,
 "nbformat_minor": 2
}
